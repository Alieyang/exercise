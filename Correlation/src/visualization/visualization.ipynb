{
 "cells": [
  {
   "cell_type": "markdown",
   "metadata": {},
   "source": [
    "image\n"
   ]
  },
  {
   "cell_type": "code",
   "execution_count": null,
   "metadata": {
    "vscode": {
     "languageId": "plaintext"
    }
   },
   "outputs": [],
   "source": [
    "import os\n",
    "import torch\n",
    "import pandas as pd\n",
    "import numpy as np\n",
    "from torch.utils.data import DataLoader\n",
    "from IPython.display import Image\n",
    "\n",
    "from models.scripts.pearson import calculate_returns, analyze_correlation, rolling_correlation_multi\n",
    "input_file = \"./processed_data/processed_data.csv\"\n",
    "output_dir = \"./results\""
   ]
  },
  {
   "cell_type": "code",
   "execution_count": null,
   "metadata": {
    "vscode": {
     "languageId": "plaintext"
    }
   },
   "outputs": [],
   "source": [
    "returns = calculate_returns(prices)\n",
    "corr_csv = os.path.join(output_dir, \"correlation_matrix.csv\")\n",
    "corr_matrix_returns = analyze_correlation(returns, output_path=corr_csv)\n",
    "rolling_corr_path = os.path.join(output_dir, \"rolling_correlation_multi.png\")\n",
    "rolling_correlation_multi(returns, base_asset=\"BTC\", compare_assets=[\"SPY\", \"GLD\", \"AGG\"], window=30, output_path=rolling_corr_path)\n",
    "Image(filename=rolling_corr_path)"
   ]
  }
 ],
 "metadata": {
  "language_info": {
   "name": "python"
  }
 },
 "nbformat": 4,
 "nbformat_minor": 2
}
